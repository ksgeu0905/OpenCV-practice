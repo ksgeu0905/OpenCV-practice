{
 "cells": [
  {
   "cell_type": "code",
   "execution_count": 22,
   "id": "b5ddab35",
   "metadata": {},
   "outputs": [],
   "source": [
    "import cv2 as cv\n",
    "import numpy as np"
   ]
  },
  {
   "cell_type": "code",
   "execution_count": 23,
   "id": "90e09c2f",
   "metadata": {},
   "outputs": [],
   "source": [
    "def escape():\n",
    "    while(1):\n",
    "        if cv.waitKey(2) == 27:\n",
    "            cv.destroyAllWindows()\n",
    "            break;"
   ]
  },
  {
   "cell_type": "code",
   "execution_count": 24,
   "id": "9077f76a",
   "metadata": {},
   "outputs": [],
   "source": [
    "img = cv.imread('pic2.jpg')\n",
    "\n",
    "cv.imshow('doggie',img2)\n",
    "escape()"
   ]
  },
  {
   "cell_type": "markdown",
   "id": "eedf935e",
   "metadata": {},
   "source": [
    "## Horizontal Stack"
   ]
  },
  {
   "cell_type": "code",
   "execution_count": 25,
   "id": "c4fd9b46",
   "metadata": {},
   "outputs": [],
   "source": [
    "hor = np.hstack((img,img))\n",
    "cv.imshow(\"horizontal\",hor)\n",
    "escape()"
   ]
  },
  {
   "cell_type": "markdown",
   "id": "9425c1fb",
   "metadata": {},
   "source": [
    "## Vertical Stack"
   ]
  },
  {
   "cell_type": "code",
   "execution_count": 26,
   "id": "086e2fa6",
   "metadata": {},
   "outputs": [],
   "source": [
    "ver = np.vstack((hor,hor))\n",
    "cv.imshow(\"Vertical\",ver)\n",
    "escape()"
   ]
  },
  {
   "cell_type": "markdown",
   "id": "a75578f2",
   "metadata": {},
   "source": [
    "## Scale Images"
   ]
  },
  {
   "cell_type": "code",
   "execution_count": 27,
   "id": "6af9084e",
   "metadata": {},
   "outputs": [],
   "source": [
    "def stackImages(scale,imgArray):\n",
    "    rows = len(imgArray)\n",
    "    cols = len(imgArray[0])\n",
    "    rowsAvailable = isinstance(imgArray[0], list)\n",
    "    width = imgArray[0][0].shape[1]\n",
    "    height = imgArray[0][0].shape[0]\n",
    "    if rowsAvailable:\n",
    "        for x in range ( 0, rows):\n",
    "            for y in range(0, cols):\n",
    "                if imgArray[x][y].shape[:2] == imgArray[0][0].shape [:2]:\n",
    "                    imgArray[x][y] = cv.resize(imgArray[x][y], (0, 0), None, scale, scale)\n",
    "                else:\n",
    "                    imgArray[x][y] = cv.resize(imgArray[x][y], (imgArray[0][0].shape[1], imgArray[0][0].shape[0]), None, scale, scale)\n",
    "                if len(imgArray[x][y].shape) == 2: imgArray[x][y]= cv.cvtColor( imgArray[x][y], cv.COLOR_GRAY2BGR)\n",
    "        imageBlank = np.zeros((height, width, 3), np.uint8)\n",
    "        hor = [imageBlank]*rows\n",
    "        hor_con = [imageBlank]*rows\n",
    "        for x in range(0, rows):\n",
    "            hor[x] = np.hstack(imgArray[x])\n",
    "        ver = np.vstack(hor)\n",
    "    else:\n",
    "        for x in range(0, rows):\n",
    "            if imgArray[x].shape[:2] == imgArray[0].shape[:2]:\n",
    "                imgArray[x] = cv.resize(imgArray[x], (0, 0), None, scale, scale)\n",
    "            else:\n",
    "                imgArray[x] = cv.resize(imgArray[x], (imgArray[0].shape[1], imgArray[0].shape[0]), None,scale, scale)\n",
    "            if len(imgArray[x].shape) == 2: imgArray[x] = cv.cvtColor(imgArray[x], cv.COLOR_GRAY2BGR)\n",
    "        hor= np.hstack(imgArray)\n",
    "        ver = hor\n",
    "    return ver\n"
   ]
  },
  {
   "cell_type": "code",
   "execution_count": 28,
   "id": "11076be6",
   "metadata": {},
   "outputs": [],
   "source": [
    "imgGray = cv.cvtColor(img,cv.COLOR_BGR2GRAY)\n",
    "imgStack = stackImages(0.6,([img,imgGray,img],[img,img,img]))\n",
    "cv.imshow(\"Image Stack\",imgStack)\n",
    "escape()"
   ]
  },
  {
   "cell_type": "code",
   "execution_count": null,
   "id": "ce41ec4b",
   "metadata": {},
   "outputs": [],
   "source": []
  }
 ],
 "metadata": {
  "kernelspec": {
   "display_name": "Python 3",
   "language": "python",
   "name": "python3"
  },
  "language_info": {
   "codemirror_mode": {
    "name": "ipython",
    "version": 3
   },
   "file_extension": ".py",
   "mimetype": "text/x-python",
   "name": "python",
   "nbconvert_exporter": "python",
   "pygments_lexer": "ipython3",
   "version": "3.8.8"
  }
 },
 "nbformat": 4,
 "nbformat_minor": 5
}
