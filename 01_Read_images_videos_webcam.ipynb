{
 "cells": [
  {
   "cell_type": "code",
   "execution_count": 2,
   "id": "203a07b7",
   "metadata": {},
   "outputs": [],
   "source": [
    "import cv2 as cv"
   ]
  },
  {
   "cell_type": "markdown",
   "id": "4193ce2f",
   "metadata": {},
   "source": [
    "## Display Image "
   ]
  },
  {
   "cell_type": "code",
   "execution_count": 3,
   "id": "02ed3e7d",
   "metadata": {},
   "outputs": [],
   "source": [
    "img = cv.imread(\"pic2.jpg\")"
   ]
  },
  {
   "cell_type": "code",
   "execution_count": 4,
   "id": "72c4aa0a",
   "metadata": {},
   "outputs": [],
   "source": [
    "cv.imshow('pillu',img)\n",
    "while(1):\n",
    "    if cv.waitKey(2) == 27:\n",
    "        cv.destroyAllWindows()\n",
    "        break;"
   ]
  },
  {
   "cell_type": "markdown",
   "id": "74d97711",
   "metadata": {},
   "source": [
    "## Display Video "
   ]
  },
  {
   "cell_type": "code",
   "execution_count": 8,
   "id": "e9c9ba27",
   "metadata": {},
   "outputs": [],
   "source": [
    "capture = cv.VideoCapture('vid1.mp4')\n",
    "while(1):\n",
    "    istrue, frame = capture.read()\n",
    "    if istrue == False:\n",
    "        break\n",
    "    cv.imshow('video',frame)\n",
    "    if cv.waitKey(20) == 27:\n",
    "        break\n",
    "\n",
    "capture.release()        \n",
    "cv.destroyAllWindows()"
   ]
  },
  {
   "cell_type": "markdown",
   "id": "5ea29449",
   "metadata": {},
   "source": [
    "## Start Webcam\n"
   ]
  },
  {
   "cell_type": "code",
   "execution_count": 19,
   "id": "0b8ff9d5",
   "metadata": {},
   "outputs": [],
   "source": [
    "capture = cv.VideoCapture(0)\n",
    "capture.set(3,600)\n",
    "capture.set(4,600)\n",
    "capture.set(10,100)\n",
    "while(1):\n",
    "    istrue, frame = capture.read()\n",
    "    if istrue == False:\n",
    "        break\n",
    "    cv.imshow('video',frame)\n",
    "    if cv.waitKey(20) == 27:\n",
    "        break\n",
    "\n",
    "capture.release()        \n",
    "cv.destroyAllWindows()"
   ]
  },
  {
   "cell_type": "code",
   "execution_count": null,
   "id": "c4bbf39d",
   "metadata": {},
   "outputs": [],
   "source": []
  }
 ],
 "metadata": {
  "kernelspec": {
   "display_name": "Python 3",
   "language": "python",
   "name": "python3"
  },
  "language_info": {
   "codemirror_mode": {
    "name": "ipython",
    "version": 3
   },
   "file_extension": ".py",
   "mimetype": "text/x-python",
   "name": "python",
   "nbconvert_exporter": "python",
   "pygments_lexer": "ipython3",
   "version": "3.8.8"
  }
 },
 "nbformat": 4,
 "nbformat_minor": 5
}
