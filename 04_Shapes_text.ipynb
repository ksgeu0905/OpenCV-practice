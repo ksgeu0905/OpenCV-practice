{
 "cells": [
  {
   "cell_type": "code",
   "execution_count": 5,
   "id": "1682bef3",
   "metadata": {},
   "outputs": [],
   "source": [
    "import cv2 as cv\n",
    "import numpy as np"
   ]
  },
  {
   "cell_type": "code",
   "execution_count": 2,
   "id": "e5c4bef1",
   "metadata": {},
   "outputs": [],
   "source": [
    "def escape():\n",
    "    while(1):\n",
    "        if cv.waitKey(2) == 27:\n",
    "            cv.destroyAllWindows()\n",
    "            break;\n",
    "            "
   ]
  },
  {
   "cell_type": "code",
   "execution_count": 4,
   "id": "88b17fbb",
   "metadata": {},
   "outputs": [],
   "source": [
    "img = cv.imread('pic2.jpg')\n",
    "cv.imshow('dog',img)\n",
    "escape()"
   ]
  },
  {
   "cell_type": "markdown",
   "id": "e97bcbeb",
   "metadata": {},
   "source": [
    "## Create Blank Image"
   ]
  },
  {
   "cell_type": "code",
   "execution_count": 70,
   "id": "83556b9c",
   "metadata": {},
   "outputs": [],
   "source": [
    "blank = np.zeros((512,512,3),np.uint8)\n",
    "cv.imshow('blank',blank)\n",
    "escape()"
   ]
  },
  {
   "cell_type": "code",
   "execution_count": 71,
   "id": "8b916ad0",
   "metadata": {},
   "outputs": [],
   "source": [
    "blank[0:256,0:256]=0,0,255\n",
    "blank[256:,256:]=255,0,0\n",
    "blank[256:,:256]=25,250,25\n",
    "blank[0:256,256:]=0,255,255\n",
    "\n",
    "cv.imshow('blank',blank)\n",
    "escape()"
   ]
  },
  {
   "cell_type": "markdown",
   "id": "3821c2ee",
   "metadata": {},
   "source": [
    "## Create a line "
   ]
  },
  {
   "cell_type": "code",
   "execution_count": 72,
   "id": "f05b7d8b",
   "metadata": {},
   "outputs": [],
   "source": [
    "cv.line(blank,(0,0),(256,256),(0,0,0),1)\n",
    "cv.line(blank,(0,512),(256,256),(0,0,0),1)\n",
    "cv.line(blank,(512,0),(256,256),(0,0,0),1)\n",
    "cv.line(blank,(512,512),(256,256),(0,0,0),1)\n",
    "\n",
    "cv.imshow('blank',blank)\n",
    "escape()"
   ]
  },
  {
   "cell_type": "markdown",
   "id": "eaf95292",
   "metadata": {},
   "source": [
    "## Creating a Rectangle"
   ]
  },
  {
   "cell_type": "code",
   "execution_count": 73,
   "id": "514748b4",
   "metadata": {},
   "outputs": [],
   "source": [
    "cv.rectangle(blank,(128,128),(384,384),(255,255,255),2)\n",
    "\n",
    "cv.imshow('blank',blank)\n",
    "escape()"
   ]
  },
  {
   "cell_type": "markdown",
   "id": "94bcd989",
   "metadata": {},
   "source": [
    "## Create a circle"
   ]
  },
  {
   "cell_type": "code",
   "execution_count": 74,
   "id": "b911e02f",
   "metadata": {},
   "outputs": [],
   "source": [
    "cv.circle(blank,(64,64),(64),(255,255,255),3)\n",
    "cv.circle(blank,(64,448),(64),(255,255,255),3)\n",
    "cv.circle(blank,(448,64),(64),(255,255,255),3)\n",
    "cv.circle(blank,(448,448),(64),(255,255,255),3)\n",
    "cv.circle(blank,(64,64),(14),(255,255,255),3)\n",
    "cv.circle(blank,(64,448),(14),(255,255,255),3)\n",
    "cv.circle(blank,(448,64),(14),(255,255,255),3)\n",
    "cv.circle(blank,(448,448),(14),(255,255,255),3)\n",
    "cv.circle(blank,(256,256),(128),(255,255,255),3)\n",
    "cv.circle(blank,(256,256),(18),(255,255,255),3)\n",
    "\n",
    "\n",
    "\n",
    "\n",
    "cv.imshow('blank',blank)\n",
    "escape()"
   ]
  },
  {
   "cell_type": "markdown",
   "id": "0edd88fe",
   "metadata": {},
   "source": [
    "## Put text"
   ]
  },
  {
   "cell_type": "code",
   "execution_count": 75,
   "id": "d8f2b687",
   "metadata": {},
   "outputs": [],
   "source": [
    "cv.putText(blank,\"My Design\",(185,64),cv.FONT_HERSHEY_DUPLEX,1,(128,128,128),2)\n",
    "\n",
    "cv.imshow('blank',blank)\n",
    "escape()"
   ]
  }
 ],
 "metadata": {
  "kernelspec": {
   "display_name": "Python 3",
   "language": "python",
   "name": "python3"
  },
  "language_info": {
   "codemirror_mode": {
    "name": "ipython",
    "version": 3
   },
   "file_extension": ".py",
   "mimetype": "text/x-python",
   "name": "python",
   "nbconvert_exporter": "python",
   "pygments_lexer": "ipython3",
   "version": "3.8.8"
  }
 },
 "nbformat": 4,
 "nbformat_minor": 5
}
