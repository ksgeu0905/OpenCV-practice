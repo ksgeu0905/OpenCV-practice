{
 "cells": [
  {
   "cell_type": "code",
   "execution_count": 1,
   "id": "1b81b14a",
   "metadata": {},
   "outputs": [],
   "source": [
    "import cv2 as cv"
   ]
  },
  {
   "cell_type": "code",
   "execution_count": 2,
   "id": "92fba915",
   "metadata": {},
   "outputs": [],
   "source": [
    "def escape():\n",
    "    while(1):\n",
    "        if cv.waitKey(2) == 27:\n",
    "            cv.destroyAllWindows()\n",
    "            break;"
   ]
  },
  {
   "cell_type": "code",
   "execution_count": 3,
   "id": "7eb1571a",
   "metadata": {},
   "outputs": [],
   "source": [
    "img = cv.imread('pic2.jpg')\n",
    "cv.imshow('dog',img)\n",
    "escape()"
   ]
  },
  {
   "cell_type": "markdown",
   "id": "51329f52",
   "metadata": {},
   "source": [
    "## Resize"
   ]
  },
  {
   "cell_type": "code",
   "execution_count": 4,
   "id": "a5a2ddc9",
   "metadata": {},
   "outputs": [
    {
     "data": {
      "text/plain": [
       "(471, 728, 3)"
      ]
     },
     "execution_count": 4,
     "metadata": {},
     "output_type": "execute_result"
    }
   ],
   "source": [
    "img.shape"
   ]
  },
  {
   "cell_type": "code",
   "execution_count": 11,
   "id": "a232d39d",
   "metadata": {},
   "outputs": [],
   "source": [
    "imgresize = cv.resize(img,(200,400))\n",
    "cv.imshow('dog',img)\n",
    "cv.imshow('dogresized',imgresize)\n",
    "\n",
    "escape()"
   ]
  },
  {
   "cell_type": "code",
   "execution_count": 12,
   "id": "df1825f3",
   "metadata": {},
   "outputs": [
    {
     "data": {
      "text/plain": [
       "(400, 200, 3)"
      ]
     },
     "execution_count": 12,
     "metadata": {},
     "output_type": "execute_result"
    }
   ],
   "source": [
    "imgresize.shape"
   ]
  },
  {
   "cell_type": "markdown",
   "id": "f49c2b97",
   "metadata": {},
   "source": [
    "## Cropping "
   ]
  },
  {
   "cell_type": "code",
   "execution_count": 18,
   "id": "a91458fd",
   "metadata": {},
   "outputs": [],
   "source": [
    "cropped = img[100:300,300:450]\n",
    "cv.imshow('dog',img)\n",
    "cv.imshow(\"crop\",cropped)\n",
    "escape()"
   ]
  },
  {
   "cell_type": "code",
   "execution_count": null,
   "id": "8f3d9c33",
   "metadata": {},
   "outputs": [],
   "source": []
  }
 ],
 "metadata": {
  "kernelspec": {
   "display_name": "Python 3",
   "language": "python",
   "name": "python3"
  },
  "language_info": {
   "codemirror_mode": {
    "name": "ipython",
    "version": 3
   },
   "file_extension": ".py",
   "mimetype": "text/x-python",
   "name": "python",
   "nbconvert_exporter": "python",
   "pygments_lexer": "ipython3",
   "version": "3.8.8"
  }
 },
 "nbformat": 4,
 "nbformat_minor": 5
}
