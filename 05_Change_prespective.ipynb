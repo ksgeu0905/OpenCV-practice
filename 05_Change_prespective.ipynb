{
 "cells": [
  {
   "cell_type": "code",
   "execution_count": 1,
   "id": "6ccc1439",
   "metadata": {},
   "outputs": [],
   "source": [
    "import cv2 as cv\n",
    "import numpy as np"
   ]
  },
  {
   "cell_type": "code",
   "execution_count": 2,
   "id": "798b56a8",
   "metadata": {},
   "outputs": [],
   "source": [
    "def escape():\n",
    "    while(1):\n",
    "        if cv.waitKey(2) == 27:\n",
    "            cv.destroyAllWindows()\n",
    "            break;\n",
    "            "
   ]
  },
  {
   "cell_type": "code",
   "execution_count": 4,
   "id": "bb858c33",
   "metadata": {},
   "outputs": [],
   "source": [
    "img = cv.imread('cards.jpg')\n",
    "cv.imshow('card',img)\n",
    "escape()"
   ]
  },
  {
   "cell_type": "code",
   "execution_count": 16,
   "id": "4719e2bf",
   "metadata": {},
   "outputs": [],
   "source": [
    "width ,height = 250,350\n",
    "pts1 = np.float32([[230,120],[414,218],[99,329],[265,434]])\n",
    "pts2 = np.float32([[0,0],[width,0],[0,height],[width,height]])\n",
    "matrix = cv.getPerspectiveTransform(pts1,pts2)\n",
    "out = cv.warpPerspective(img,matrix,(width,height))\n",
    "cv.imshow('card1',img)\n",
    "\n",
    "cv.imshow('card',out)\n",
    "escape()"
   ]
  },
  {
   "cell_type": "code",
   "execution_count": null,
   "id": "d653b1ed",
   "metadata": {},
   "outputs": [],
   "source": []
  }
 ],
 "metadata": {
  "kernelspec": {
   "display_name": "Python 3",
   "language": "python",
   "name": "python3"
  },
  "language_info": {
   "codemirror_mode": {
    "name": "ipython",
    "version": 3
   },
   "file_extension": ".py",
   "mimetype": "text/x-python",
   "name": "python",
   "nbconvert_exporter": "python",
   "pygments_lexer": "ipython3",
   "version": "3.8.8"
  }
 },
 "nbformat": 4,
 "nbformat_minor": 5
}
