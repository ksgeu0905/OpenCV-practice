{
 "cells": [
  {
   "cell_type": "code",
   "execution_count": 2,
   "id": "347ec50f",
   "metadata": {},
   "outputs": [],
   "source": [
    "import cv2 as cv\n",
    "cv2=cv\n",
    "capture = cv.VideoCapture(0)\n",
    "\n",
    "faceCascade= cv2.CascadeClassifier(\"haarcascade_frontalface_default.xml\")    \n",
    "    \n",
    "while(1):\n",
    "    istrue, img = capture.read()\n",
    "    if istrue == False:\n",
    "        break\n",
    "    \n",
    "    imgGray = cv2.cvtColor(img,cv2.COLOR_BGR2GRAY)\n",
    "    \n",
    "    faces = faceCascade.detectMultiScale(imgGray,1.1,4)\n",
    "    \n",
    "    for (x,y,w,h) in faces:\n",
    "        cv2.rectangle(img,(x,y),(x+w,y+h),(255,0,0),2)\n",
    "    \n",
    "    cv.imshow('video',img)\n",
    "    \n",
    "    if cv.waitKey(2) == 27:\n",
    "        break\n",
    "capture.release()        \n",
    "cv.destroyAllWindows()"
   ]
  }
 ],
 "metadata": {
  "kernelspec": {
   "display_name": "Python 3",
   "language": "python",
   "name": "python3"
  },
  "language_info": {
   "codemirror_mode": {
    "name": "ipython",
    "version": 3
   },
   "file_extension": ".py",
   "mimetype": "text/x-python",
   "name": "python",
   "nbconvert_exporter": "python",
   "pygments_lexer": "ipython3",
   "version": "3.8.8"
  }
 },
 "nbformat": 4,
 "nbformat_minor": 5
}
