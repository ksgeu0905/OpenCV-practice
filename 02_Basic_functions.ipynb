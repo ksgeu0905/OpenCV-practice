{
 "cells": [
  {
   "cell_type": "code",
   "execution_count": 20,
   "id": "d16002d1",
   "metadata": {},
   "outputs": [],
   "source": [
    "import cv2 as cv\n",
    "import numpy as np"
   ]
  },
  {
   "cell_type": "code",
   "execution_count": 2,
   "id": "879a914a",
   "metadata": {},
   "outputs": [],
   "source": [
    "def escape():\n",
    "    while(1):\n",
    "        if cv.waitKey(2) == 27:\n",
    "            cv.destroyAllWindows()\n",
    "            break;"
   ]
  },
  {
   "cell_type": "code",
   "execution_count": 3,
   "id": "651c9c53",
   "metadata": {},
   "outputs": [],
   "source": [
    "img = cv.imread('pic2.jpg')\n",
    "cv.imshow('dog',img)\n",
    "escape()"
   ]
  },
  {
   "cell_type": "markdown",
   "id": "0bf06c72",
   "metadata": {},
   "source": [
    "## Convert into grayscale"
   ]
  },
  {
   "cell_type": "code",
   "execution_count": 4,
   "id": "4b72fd84",
   "metadata": {},
   "outputs": [],
   "source": [
    "gray = cv.cvtColor(img,cv.COLOR_BGR2GRAY)\n",
    "cv.imshow('grey',gray)\n",
    "escape()"
   ]
  },
  {
   "cell_type": "markdown",
   "id": "9e31d272",
   "metadata": {},
   "source": [
    "## Blur image"
   ]
  },
  {
   "cell_type": "code",
   "execution_count": 17,
   "id": "7fbfd0a0",
   "metadata": {},
   "outputs": [],
   "source": [
    "blured1 = cv.GaussianBlur(img,(3,3),cv.BORDER_DEFAULT)\n",
    "cv.imshow('blured1',blured1)\n",
    "blured2 = cv.GaussianBlur(img,(3,3),0)\n",
    "cv.imshow(\"blured2\",blured2)\n",
    "escape()"
   ]
  },
  {
   "cell_type": "markdown",
   "id": "3df4f8c8",
   "metadata": {},
   "source": [
    "## Canny Edge"
   ]
  },
  {
   "cell_type": "code",
   "execution_count": 19,
   "id": "d7176a03",
   "metadata": {},
   "outputs": [],
   "source": [
    "canny = cv.Canny(blured1,200,200)\n",
    "cv.imshow('image',img)\n",
    "cv.imshow(\"canny\",canny)\n",
    "escape()"
   ]
  },
  {
   "cell_type": "markdown",
   "id": "3399d53d",
   "metadata": {},
   "source": [
    "## Dialate Image"
   ]
  },
  {
   "cell_type": "code",
   "execution_count": 42,
   "id": "a2934247",
   "metadata": {},
   "outputs": [],
   "source": [
    "Kernal1 = np.ones((2,2),np.uint8)\n",
    "Kernal2 = np.ones((5,5),np.uint8)"
   ]
  },
  {
   "cell_type": "code",
   "execution_count": 43,
   "id": "24c9d546",
   "metadata": {},
   "outputs": [],
   "source": [
    "dialated1 = cv.dilate(canny,Kernal1,iterations=1)\n",
    "dialated2 = cv.dilate(canny,Kernal2,iterations=1)\n",
    "\n",
    "cv.imshow(\"canny\",canny)\n",
    "\n",
    "cv.imshow(\"dialated_kernal1\",dialated1)\n",
    "cv.imshow(\"dialated_kernal2\",dialated2)\n",
    "\n",
    "escape()"
   ]
  },
  {
   "cell_type": "code",
   "execution_count": null,
   "id": "4c153648",
   "metadata": {},
   "outputs": [],
   "source": []
  }
 ],
 "metadata": {
  "kernelspec": {
   "display_name": "Python 3",
   "language": "python",
   "name": "python3"
  },
  "language_info": {
   "codemirror_mode": {
    "name": "ipython",
    "version": 3
   },
   "file_extension": ".py",
   "mimetype": "text/x-python",
   "name": "python",
   "nbconvert_exporter": "python",
   "pygments_lexer": "ipython3",
   "version": "3.8.8"
  }
 },
 "nbformat": 4,
 "nbformat_minor": 5
}
